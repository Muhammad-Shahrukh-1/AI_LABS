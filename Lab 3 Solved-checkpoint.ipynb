{
 "cells": [
  {
   "cell_type": "markdown",
   "id": "95736444-6342-473e-85dd-0cabb089362c",
   "metadata": {},
   "source": [
    "# 2022F-BSE-014"
   ]
  },
  {
   "cell_type": "markdown",
   "id": "47f3b377-4a8e-402c-8c2d-06f48759b3b7",
   "metadata": {},
   "source": [
    "LAB # 03\n",
    "K-NEAREST NEIGHBOR (KNN) ALGORITHM"
   ]
  },
  {
   "cell_type": "markdown",
   "id": "6cf96ba9-02b3-457f-8db7-23baaa505802",
   "metadata": {},
   "source": [
    "OBJECTIVE\n",
    "Implementing K-Nearest Neighbor (KNN) algorithm to classify the data set"
   ]
  },
  {
   "cell_type": "markdown",
   "id": "1d10f009-4d58-479b-8dcf-75c2d15753a3",
   "metadata": {},
   "source": [
    "Lab Tasks:"
   ]
  },
  {
   "cell_type": "markdown",
   "id": "bd24e75e-239b-4c72-a19e-b6203b68cc33",
   "metadata": {},
   "source": [
    "1.Implement K-Nearest Neighbor (KNN) Algorithm on the above dataset in Fig 1 to predict whether the players can play or not when the weather is overcast and the temperature is mild.Also apply confusion Matrix."
   ]
  },
  {
   "cell_type": "code",
   "execution_count": 67,
   "id": "54181991-81a7-4a2f-904a-f3c161e1f994",
   "metadata": {},
   "outputs": [],
   "source": [
    "from sklearn import preprocessing\n",
    "from sklearn.neighbors import KNeighborsClassifier\n",
    "from sklearn.metrics import confusion_matrix, accuracy_score\n",
    "from sklearn.model_selection import train_test_split\n",
    "import numpy as np"
   ]
  },
  {
   "cell_type": "code",
   "execution_count": 68,
   "id": "234a9330-7442-48dc-a88b-e6b1746dc644",
   "metadata": {},
   "outputs": [],
   "source": [
    "weather = ['sunny','sunny','overcast','rainy','rainy','rainy','overcast','sunny','sunny','rainy','sunny','overcast','overcast','rainy']\n",
    "temperature = ['hot','hot','hot','mild','cool','cool','mild','cool','mild','mild','mild','hot','mild','mild']\n",
    "play = ['no','no','yes','yes','yes','no','yes','no','yes','yes','yes','yes','yes','no']"
   ]
  },
  {
   "cell_type": "code",
   "execution_count": 69,
   "id": "26ead7cd-e055-4030-9d36-2387e0fd14eb",
   "metadata": {},
   "outputs": [],
   "source": [
    "le = preprocessing.LabelEncoder()\n",
    "w_encoded = le.fit_transform(weather)\n",
    "t_encoded = le.fit_transform(temperature)\n",
    "play_encoded = le.fit_transform(play)"
   ]
  },
  {
   "cell_type": "code",
   "execution_count": 70,
   "id": "ddb17d11-bee2-4f99-a5c0-14d11823d3c4",
   "metadata": {},
   "outputs": [],
   "source": [
    "features = list(zip(w_encoded,t_encoded))"
   ]
  },
  {
   "cell_type": "code",
   "execution_count": 71,
   "id": "519d6467-1e9c-4c39-b12b-8d78dee02942",
   "metadata": {},
   "outputs": [],
   "source": [
    "features_train, features_test, label_train, label_test = train_test_split(features, play_encoded, test_size=0.2, random_state=42)"
   ]
  },
  {
   "cell_type": "code",
   "execution_count": 75,
   "id": "cece9422-1480-4213-825a-bc982a753315",
   "metadata": {},
   "outputs": [],
   "source": [
    "model = KNeighborsClassifier(n_neighbors = 3,metric='euclidean')"
   ]
  },
  {
   "cell_type": "code",
   "execution_count": 76,
   "id": "7ae052df-f1ff-4386-850a-18734551f9e5",
   "metadata": {},
   "outputs": [],
   "source": [
    "model.fit(features_train, label_train)\n",
    "predicted = model.predict(features_test)"
   ]
  },
  {
   "cell_type": "code",
   "execution_count": 78,
   "id": "bdb9c00a-34ac-45a0-8f05-7959ee8b8448",
   "metadata": {},
   "outputs": [
    {
     "name": "stdout",
     "output_type": "stream",
     "text": [
      "confusion matrix\n",
      "[[1 0]\n",
      " [0 2]]\n"
     ]
    }
   ],
   "source": [
    "conf_mat = confusion_matrix(label_test,predicted)\n",
    "print('confusion matrix')\n",
    "print(conf_mat)"
   ]
  },
  {
   "cell_type": "code",
   "execution_count": 79,
   "id": "97741b63-1407-497a-9232-be151a46e8df",
   "metadata": {},
   "outputs": [
    {
     "name": "stdout",
     "output_type": "stream",
     "text": [
      "accuracy :  1.0\n"
     ]
    }
   ],
   "source": [
    "accuracy =  accuracy_score(label_test,predicted)\n",
    "print('accuracy : ',accuracy)"
   ]
  },
  {
   "cell_type": "markdown",
   "id": "28ece0f7-d6b6-4e94-8421-8fe7d39457b6",
   "metadata": {},
   "source": [
    "2.Here are 4 training samples. The two attributes are acid durability and strength. Now the factory produces a new tissue paper that passes laboratory test with X1=3 and X2=7. Predict the classification of this new tissue."
   ]
  },
  {
   "cell_type": "code",
   "execution_count": 88,
   "id": "369c6f00-c49b-41ff-8344-1781fae3342d",
   "metadata": {},
   "outputs": [],
   "source": [
    "from sklearn import preprocessing\n",
    "from sklearn.neighbors import KNeighborsClassifier\n",
    "from sklearn.metrics import confusion_matrix, accuracy_score\n",
    "from sklearn.model_selection import train_test_split"
   ]
  },
  {
   "cell_type": "code",
   "execution_count": 89,
   "id": "aec3c26e-f789-4028-a2e4-f53844f61165",
   "metadata": {},
   "outputs": [],
   "source": [
    "x1 = [7,7,3,1]\n",
    "x2 = [7,4,4,4]\n",
    "y = ['bad','bad','good','good']"
   ]
  },
  {
   "cell_type": "code",
   "execution_count": 90,
   "id": "42421b44-8ec1-45ab-90d2-593d353635fd",
   "metadata": {},
   "outputs": [],
   "source": [
    "le = preprocessing.LabelEncoder()\n",
    "x1_encoded = le.fit_transform(x1)\n",
    "x2_encoded = le.fit_transform(x2)\n",
    "y_encoded = le.fit_transform(y)"
   ]
  },
  {
   "cell_type": "code",
   "execution_count": 92,
   "id": "04d46acf-16fa-4903-ab16-a0b4f8bad209",
   "metadata": {},
   "outputs": [],
   "source": [
    "features = list(zip(x1_encoded,x2_encoded))"
   ]
  },
  {
   "cell_type": "code",
   "execution_count": 103,
   "id": "9d92ac83-6e2e-4e2e-822c-aa60f272cc84",
   "metadata": {},
   "outputs": [],
   "source": [
    "features_train, features_test,label_train,label_test = train_test_split(features,y_encoded,test_size=0.2,random_state=42)"
   ]
  },
  {
   "cell_type": "code",
   "execution_count": 104,
   "id": "707c1b7e-5483-4bf6-97c9-1c40d77c1406",
   "metadata": {},
   "outputs": [],
   "source": [
    "model = KNeighborsClassifier(n_neighbors=3, metric='euclidean')"
   ]
  },
  {
   "cell_type": "code",
   "execution_count": 124,
   "id": "0b8c5d30-2cd9-4358-a508-c73b47d7de94",
   "metadata": {},
   "outputs": [],
   "source": [
    "model.fit(features_train,label_train)\n",
    "predicted = model.predict([[3,7]])"
   ]
  },
  {
   "cell_type": "code",
   "execution_count": 125,
   "id": "e88de0fb-d66d-42df-a355-0d9db2297d95",
   "metadata": {},
   "outputs": [
    {
     "name": "stdout",
     "output_type": "stream",
     "text": [
      "prediction:  [1]\n"
     ]
    }
   ],
   "source": [
    "print('prediction: ',predicted)"
   ]
  },
  {
   "cell_type": "markdown",
   "id": "cc1a524e-a675-49d0-8d5b-c4e5a82bf609",
   "metadata": {},
   "source": [
    "Home Task"
   ]
  },
  {
   "cell_type": "code",
   "execution_count": 93,
   "id": "867d8779-4c03-404e-a9ad-7c367e071922",
   "metadata": {},
   "outputs": [],
   "source": [
    "from sklearn import preprocessing\n",
    "from sklearn.neighbors import KNeighborsClassifier\n",
    "from sklearn.model_selection import train_test_split\n",
    "import pandas as pd\n",
    "from sklearn.metrics import confusion_matrix,accuracy_score"
   ]
  },
  {
   "cell_type": "code",
   "execution_count": 94,
   "id": "9134aff2-496e-4d84-b0e3-f233b5830dae",
   "metadata": {},
   "outputs": [
    {
     "name": "stdout",
     "output_type": "stream",
     "text": [
      "    Age  Salary  Experience Education Level  Is Employed\n",
      "0    56   32695          36       Bachelors            1\n",
      "1    46   78190          31     High School            0\n",
      "2    32   35258          32         Masters            1\n",
      "3    60  117538           0       Bachelors            1\n",
      "4    25   69504          18             PhD            1\n",
      "..  ...     ...         ...             ...          ...\n",
      "95   24   53664          11       Bachelors            1\n",
      "96   26   97172          21         Masters            0\n",
      "97   41  115616          21     High School            0\n",
      "98   18   56736          29             PhD            1\n",
      "99   61   30854          37     High School            0\n",
      "\n",
      "[100 rows x 5 columns]\n"
     ]
    }
   ],
   "source": [
    "dataset = pd.read_csv('random_dataset.csv')\n",
    "print(dataset)"
   ]
  },
  {
   "cell_type": "code",
   "execution_count": 95,
   "id": "7dcd13ed-fd55-4d4c-a12a-9d8501873212",
   "metadata": {},
   "outputs": [],
   "source": [
    "age = dataset['Age']\n",
    "salary = dataset['Salary']\n",
    "experience = dataset['Experience']\n",
    "education = dataset['Education Level']\n",
    "isemployed = dataset['Is Employed']"
   ]
  },
  {
   "cell_type": "code",
   "execution_count": 96,
   "id": "c4478719-ee06-4210-adac-5c13c32f61f6",
   "metadata": {},
   "outputs": [],
   "source": [
    "le = preprocessing.LabelEncoder()\n",
    "age_encoded = le.fit_transform(age)\n",
    "salary_encoded = le.fit_transform(salary)\n",
    "experience_encoded = le.fit_transform(experience)\n",
    "education_encoded = le.fit_transform(education)\n",
    "isemployed_encoded = le.fit_transform(isemployed)"
   ]
  },
  {
   "cell_type": "code",
   "execution_count": 97,
   "id": "4b28c4fe-7e33-4976-a4ad-be6c96bd391c",
   "metadata": {},
   "outputs": [],
   "source": [
    "features = list(zip(age_encoded,salary_encoded,experience_encoded,education_encoded))"
   ]
  },
  {
   "cell_type": "code",
   "execution_count": 98,
   "id": "48f566fa-8ad4-4fa2-a520-97949b6ad075",
   "metadata": {},
   "outputs": [],
   "source": [
    "features_train, features_test,label_train,label_test = train_test_split(features,isemployed,test_size=0.2, random_state=44)"
   ]
  },
  {
   "cell_type": "code",
   "execution_count": 99,
   "id": "6b45b375-63ab-491d-9ec2-6cffb0a62994",
   "metadata": {},
   "outputs": [],
   "source": [
    "model = KNeighborsClassifier(n_neighbors=3,metric = 'euclidean')\n",
    "model.fit(features_train,label_train)\n",
    "predicted = model.predict(features_test)"
   ]
  },
  {
   "cell_type": "code",
   "execution_count": 100,
   "id": "72feca8b-47cf-4bd3-b094-4dc304b14284",
   "metadata": {},
   "outputs": [
    {
     "name": "stdout",
     "output_type": "stream",
     "text": [
      "confusion matrix\n",
      "[[1 7]\n",
      " [4 8]]\n"
     ]
    }
   ],
   "source": [
    "conf_mat = confusion_matrix(label_test,predicted)\n",
    "print('confusion matrix')\n",
    "print(conf_mat)"
   ]
  },
  {
   "cell_type": "code",
   "execution_count": 101,
   "id": "20e8508f-4311-4296-babd-1abea99b00b6",
   "metadata": {},
   "outputs": [
    {
     "name": "stdout",
     "output_type": "stream",
     "text": [
      "Accuracy:  0.45\n"
     ]
    }
   ],
   "source": [
    "accuracy = accuracy_score(label_test,predicted)\n",
    "print('Accuracy: ',accuracy)"
   ]
  },
  {
   "cell_type": "code",
   "execution_count": null,
   "id": "62605834-947c-4175-8fed-579d96f0ec51",
   "metadata": {},
   "outputs": [],
   "source": []
  }
 ],
 "metadata": {
  "kernelspec": {
   "display_name": "Python 3 (ipykernel)",
   "language": "python",
   "name": "python3"
  },
  "language_info": {
   "codemirror_mode": {
    "name": "ipython",
    "version": 3
   },
   "file_extension": ".py",
   "mimetype": "text/x-python",
   "name": "python",
   "nbconvert_exporter": "python",
   "pygments_lexer": "ipython3",
   "version": "3.12.5"
  }
 },
 "nbformat": 4,
 "nbformat_minor": 5
}
