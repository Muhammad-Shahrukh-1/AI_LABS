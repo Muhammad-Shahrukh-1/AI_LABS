{
 "cells": [
  {
   "cell_type": "markdown",
   "id": "8879bb8c-be93-4740-8681-37e54269e679",
   "metadata": {},
   "source": [
    "# 2022F-BSE-014"
   ]
  },
  {
   "attachments": {
    "ff3b58dd-f3a5-4c17-a738-1c83d00cebaf.png": {
     "image/png": "[encoded data removed]"
    }
   },
   "cell_type": "markdown",
   "id": "69780bb1-940a-432c-baa6-3e9dec467eff",
   "metadata": {},
   "source": [
    "![image.png](attachment:ff3b58dd-f3a5-4c17-a738-1c83d00cebaf.png)"
   ]
  },
  {
   "attachments": {
    "24de16cf-9076-41bd-b8a5-a5c46fb2dbbf.png": {
     "image/png": "[encoded data removed]"
    }
   },
   "cell_type": "markdown",
   "id": "31d61a11-2578-4788-8329-835bf2bfda12",
   "metadata": {},
   "source": [
    "![image.png](attachment:24de16cf-9076-41bd-b8a5-a5c46fb2dbbf.png)"
   ]
  },
  {
   "cell_type": "code",
   "execution_count": 10,
   "id": "0eccdc29-6eeb-491e-ad25-5dde2f8b615b",
   "metadata": {},
   "outputs": [
    {
     "name": "stdout",
     "output_type": "stream",
     "text": [
      "Initial Board:\n",
      "_ | _ | _\n",
      "_ | _ | _\n",
      "_ | _ | _\n",
      "\n",
      "\n",
      "AI is calculating the best move...\n",
      "AI placed 'X' at: (0, 0)\n",
      "X | _ | _\n",
      "_ | _ | _\n",
      "_ | _ | _\n",
      "\n",
      "\n",
      "Your turn (Enter row and column):\n"
     ]
    },
    {
     "name": "stdin",
     "output_type": "stream",
     "text": [
      " 0 1\n"
     ]
    },
    {
     "name": "stdout",
     "output_type": "stream",
     "text": [
      "X | O | _\n",
      "_ | _ | _\n",
      "_ | _ | _\n",
      "\n",
      "\n",
      "AI is calculating the best move...\n",
      "AI placed 'X' at: (1, 0)\n",
      "X | O | _\n",
      "X | _ | _\n",
      "_ | _ | _\n",
      "\n",
      "\n",
      "Your turn (Enter row and column):\n"
     ]
    },
    {
     "name": "stdin",
     "output_type": "stream",
     "text": [
      " 2 0\n"
     ]
    },
    {
     "name": "stdout",
     "output_type": "stream",
     "text": [
      "X | O | _\n",
      "X | _ | _\n",
      "O | _ | _\n",
      "\n",
      "\n",
      "AI is calculating the best move...\n",
      "AI placed 'X' at: (1, 1)\n",
      "X | O | _\n",
      "X | X | _\n",
      "O | _ | _\n",
      "\n",
      "\n",
      "Your turn (Enter row and column):\n"
     ]
    },
    {
     "name": "stdin",
     "output_type": "stream",
     "text": [
      " 2 2\n"
     ]
    },
    {
     "name": "stdout",
     "output_type": "stream",
     "text": [
      "X | O | _\n",
      "X | X | _\n",
      "O | _ | O\n",
      "\n",
      "\n",
      "AI is calculating the best move...\n",
      "AI placed 'X' at: (1, 2)\n",
      "X | O | _\n",
      "X | X | X\n",
      "O | _ | O\n",
      "\n",
      "\n",
      "AI wins!\n"
     ]
    }
   ],
   "source": [
    "# Tic-Tac-Toe implementation with Minimax Algorithm\n",
    "\n",
    "# Represent the board as a 3x3 matrix\n",
    "board = [\n",
    "    ['_', '_', '_'],\n",
    "    ['_', '_', '_'],\n",
    "    ['_', '_', '_']\n",
    "]\n",
    "\n",
    "# Function to print the board\n",
    "def print_board(board):\n",
    "    for row in board:\n",
    "        print(\" | \".join(row))\n",
    "    print(\"\\n\")\n",
    "\n",
    "# Function to check if there are moves left\n",
    "def is_moves_left(board):\n",
    "    for row in board:\n",
    "        if '_' in row:\n",
    "            return True\n",
    "    return False\n",
    "\n",
    "# Function to evaluate the board\n",
    "def evaluate(board, depth):\n",
    "    # Check rows for victory\n",
    "    for row in board:\n",
    "        if row[0] == row[1] == row[2] and row[0] != '_':\n",
    "            return 10 - depth if row[0] == 'X' else -10 + depth\n",
    "\n",
    "    # Check columns for victory\n",
    "    for col in range(3):\n",
    "        if board[0][col] == board[1][col] == board[2][col] and board[0][col] != '_':\n",
    "            return 10 - depth if board[0][col] == 'X' else -10 + depth\n",
    "\n",
    "    # Check diagonals for victory\n",
    "    if board[0][0] == board[1][1] == board[2][2] and board[0][0] != '_':\n",
    "        return 10 - depth if board[0][0] == 'X' else -10 + depth\n",
    "    if board[0][2] == board[1][1] == board[2][0] and board[0][2] != '_':\n",
    "        return 10 - depth if board[0][2] == 'X' else -10 + depth\n",
    "\n",
    "    # No winner\n",
    "    return 0\n",
    "\n",
    "# Minimax function\n",
    "def minimax(board, depth, is_maximizing):\n",
    "    score = evaluate(board, depth)\n",
    "\n",
    "    # If a terminal state is reached\n",
    "    if score != 0:\n",
    "        return score\n",
    "    if not is_moves_left(board):\n",
    "        return 0\n",
    "\n",
    "    if is_maximizing:\n",
    "        best = -float('inf')\n",
    "        for i in range(3):\n",
    "            for j in range(3):\n",
    "                if board[i][j] == '_':\n",
    "                    board[i][j] = 'X'\n",
    "                    best = max(best, minimax(board, depth + 1, False))\n",
    "                    board[i][j] = '_'\n",
    "        return best\n",
    "    else:\n",
    "        best = float('inf')\n",
    "        for i in range(3):\n",
    "            for j in range(3):\n",
    "                if board[i][j] == '_':\n",
    "                    board[i][j] = 'O'\n",
    "                    best = min(best, minimax(board, depth + 1, True))\n",
    "                    board[i][j] = '_'\n",
    "        return best\n",
    "\n",
    "# Function to find the best move\n",
    "def find_best_move(board):\n",
    "    best_val = -float('inf')\n",
    "    best_move = (-1, -1)\n",
    "\n",
    "    for i in range(3):\n",
    "        for j in range(3):\n",
    "            if board[i][j] == '_':\n",
    "                board[i][j] = 'X'\n",
    "                move_val = minimax(board, 0, False)\n",
    "                board[i][j] = '_'\n",
    "                if move_val > best_val:\n",
    "                    best_val = move_val\n",
    "                    best_move = (i, j)\n",
    "\n",
    "    return best_move\n",
    "\n",
    "# Main game loop for testing\n",
    "print(\"Initial Board:\")\n",
    "print_board(board)\n",
    "\n",
    "# Example: Make moves manually or find optimal move for X\n",
    "while is_moves_left(board):\n",
    "    # Player X (AI) makes a move\n",
    "    print(\"AI is calculating the best move...\")\n",
    "    best_move = find_best_move(board)\n",
    "    if best_move == (-1, -1):  # No moves left\n",
    "        break\n",
    "    board[best_move[0]][best_move[1]] = 'X'\n",
    "    print(\"AI placed 'X' at:\", best_move)\n",
    "    print_board(board)\n",
    "\n",
    "    # Check for game over\n",
    "    if evaluate(board, 0) == 10:\n",
    "        print(\"AI wins!\")\n",
    "        break\n",
    "    elif not is_moves_left(board):\n",
    "        print(\"It's a draw!\")\n",
    "        break\n",
    "\n",
    "    # Player O (manual input)\n",
    "    print(\"Your turn (Enter row and column):\")\n",
    "    row, col = map(int, input().split())\n",
    "    if board[row][col] == '_':\n",
    "        board[row][col] = 'O'\n",
    "    else:\n",
    "        print(\"Invalid move! Try again.\")\n",
    "        continue\n",
    "\n",
    "    print_board(board)\n",
    "\n",
    "    # Check for game over\n",
    "    if evaluate(board, 0) == -10:\n",
    "        print(\"You win!\")\n",
    "        break\n",
    "    elif not is_moves_left(board):\n",
    "        print(\"It's a draw!\")\n",
    "        break\n"
   ]
  },
  {
   "cell_type": "markdown",
   "id": "9813a5a4-690e-41e4-a2c3-cfff20bd9c3a",
   "metadata": {},
   "source": [
    "# From git hub:"
   ]
  },
  {
   "cell_type": "code",
   "execution_count": null,
   "id": "078c3eb8-99e1-4660-853e-1f84f80b9a2a",
   "metadata": {},
   "outputs": [],
   "source": []
  }
 ],
 "metadata": {
  "kernelspec": {
   "display_name": "Python 3 (ipykernel)",
   "language": "python",
   "name": "python3"
  },
  "language_info": {
   "codemirror_mode": {
    "name": "ipython",
    "version": 3
   },
   "file_extension": ".py",
   "mimetype": "text/x-python",
   "name": "python",
   "nbconvert_exporter": "python",
   "pygments_lexer": "ipython3",
   "version": "3.12.5"
  }
 },
 "nbformat": 4,
 "nbformat_minor": 5
}
