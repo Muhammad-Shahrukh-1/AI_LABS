{
 "cells": [
  {
   "cell_type": "markdown",
   "id": "87d95e38-54c2-44b8-92b1-2501e770d908",
   "metadata": {},
   "source": [
    "# 2022F-BSE-014"
   ]
  },
  {
   "attachments": {
    "5603cb18-d3a6-4a7a-96ab-f1aa9b194b5b.png": {
     "image/png": "[encoded data removed]"
    }
   },
   "cell_type": "markdown",
   "id": "9620534a-4b86-4c47-88cb-1dc767722b4e",
   "metadata": {},
   "source": [
    "![image.png](attachment:5603cb18-d3a6-4a7a-96ab-f1aa9b194b5b.png)"
   ]
  },
  {
   "attachments": {
    "51082bb7-2fb5-4f27-b1e8-f8d4a1c0f240.png": {
     "image/png": "[encoded data removed]"
    }
   },
   "cell_type": "markdown",
   "id": "5068105f-6c74-44f1-b6ec-60c2927cceec",
   "metadata": {},
   "source": [
    "![image.png](attachment:51082bb7-2fb5-4f27-b1e8-f8d4a1c0f240.png)"
   ]
  },
  {
   "cell_type": "code",
   "execution_count": 3,
   "id": "e44bbea8-c0a0-472e-8612-e3021bf9037f",
   "metadata": {},
   "outputs": [
    {
     "name": "stdout",
     "output_type": "stream",
     "text": [
      "S = [[0, 0, 1, 1, 1, 1, 1, 1, 1, 1], [0, 0, 1, 1, 1, 1, 1, 1, 1, 1], [0, 1, 1, 0, 1, 1, 0, 1, 1, 1], [0, 1, 0, 1, 1, 1, 0, 0, 1, 1], [0, 0, 1, 0, 1, 1, 1, 1, 1, 1], [0, 0, 1, 0, 1, 1, 0, 1, 1, 1]]\n",
      "Fitness\n",
      "[8, 8, 7, 6, 7, 6]\n",
      "Total fitness: 42\n",
      "\n",
      "Arranging in Descending order based on fitness\n",
      "S in descending order = [[0, 0, 1, 1, 1, 1, 1, 1, 1, 1], [0, 0, 1, 1, 1, 1, 1, 1, 1, 1], [0, 1, 1, 0, 1, 1, 0, 1, 1, 1], [0, 0, 1, 0, 1, 1, 1, 1, 1, 1], [0, 1, 0, 1, 1, 1, 0, 0, 1, 1], [0, 0, 1, 0, 1, 1, 0, 1, 1, 1]]\n",
      "\n",
      "Crossover after 2 points\n",
      "s1 and s4 after crossover\n",
      "s1 = [0, 0, 1, 0, 1, 1, 1, 1, 1, 1] s4 = [0, 0, 1, 1, 1, 1, 1, 1, 1, 1]\n",
      "s5 = [0, 1, 0, 0, 1, 1, 0, 1, 1, 1] s6 = [0, 0, 1, 1, 1, 1, 0, 0, 1, 1]\n",
      "S after crossover = [[0, 0, 1, 0, 1, 1, 1, 1, 1, 1], [0, 0, 1, 1, 1, 1, 1, 1, 1, 1], [0, 1, 1, 0, 1, 1, 0, 1, 1, 1], [0, 0, 1, 1, 1, 1, 1, 1, 1, 1], [0, 1, 0, 0, 1, 1, 0, 1, 1, 1], [0, 0, 1, 1, 1, 1, 0, 0, 1, 1]]\n",
      "\n",
      "Mutation\n",
      "S after mutation = [[1, 1, 1, 0, 1, 1, 1, 1, 1, 1], [1, 1, 1, 1, 1, 1, 1, 1, 1, 1], [1, 0, 1, 0, 1, 1, 0, 1, 1, 1], [1, 1, 1, 1, 1, 1, 1, 1, 1, 1], [1, 0, 0, 0, 1, 1, 0, 1, 1, 1], [1, 1, 1, 1, 1, 1, 0, 0, 1, 1]]\n",
      "Fitness\n",
      "[9, 10, 7, 10, 6, 8]\n",
      "Total fitness: 50\n",
      "Fitness is greater after applying Genetic Algorithm\n"
     ]
    }
   ],
   "source": [
    "S = [\n",
    "    [0, 0, 1, 1, 1, 1, 1, 1, 1, 1],\n",
    "    [0, 0, 1, 1, 1, 1, 1, 1, 1, 1],\n",
    "    [0, 1, 1, 0, 1, 1, 0, 1, 1, 1],\n",
    "    [0, 1, 0, 1, 1, 1, 0, 0, 1, 1],\n",
    "    [0, 0, 1, 0, 1, 1, 1, 1, 1, 1],\n",
    "    [0, 0, 1, 0, 1, 1, 0, 1, 1, 1]\n",
    "]\n",
    "print(\"S =\", S)\n",
    "\n",
    "def calfitness(S):\n",
    "    fit = []\n",
    "    total = 0\n",
    "    print(\"Fitness\")\n",
    "    for i in S:\n",
    "        fit.append(i.count(1))\n",
    "        total += i.count(1)\n",
    "    print(fit)\n",
    "    print(\"Total fitness:\", total)\n",
    "    return fit\n",
    "\n",
    "fit = calfitness(S)\n",
    "\n",
    "print(\"\\nArranging in Descending order based on fitness\")\n",
    "desc = S.copy()\n",
    "for i in range(len(desc)):\n",
    "    for j in range(i + 1, len(desc)):\n",
    "        if desc[i].count(1) < desc[j].count(1):\n",
    "            desc[j], desc[i] = desc[i], desc[j]\n",
    "\n",
    "print(\"S in descending order =\", desc)\n",
    "\n",
    "print(\"\\nCrossover after 2 points\")\n",
    "for i in range(3):  # Swap first 3 elements of row 1 with row 4\n",
    "    desc[0][i], desc[3][i] = desc[3][i], desc[0][i]\n",
    "    desc[4][i], desc[5][i] = desc[5][i], desc[4][i]\n",
    "\n",
    "# Swapping entire rows for further crossover\n",
    "desc[0], desc[3] = desc[3], desc[0]\n",
    "desc[4], desc[5] = desc[5], desc[4]\n",
    "\n",
    "print(\"s1 and s4 after crossover\")\n",
    "print(\"s1 =\", desc[0], \"s4 =\", desc[3])\n",
    "print(\"s5 =\", desc[4], \"s6 =\", desc[5])\n",
    "print(\"S after crossover =\", desc)\n",
    "\n",
    "print(\"\\nMutation\")\n",
    "for i in range(6):  # Iterate through all rows\n",
    "    for j in range(2):  # Mutate first 2 elements in each row\n",
    "        desc[i][j] = 1 - desc[i][j]  # Flip 0 to 1 and 1 to 0\n",
    "\n",
    "print(\"S after mutation =\", desc)\n",
    "\n",
    "fit2 = calfitness(desc)\n",
    "\n",
    "if sum(fit2) > sum(fit):\n",
    "    print(\"Fitness is greater after applying Genetic Algorithm\")\n",
    "else:\n",
    "    print(\"Fitness is greater before applying Genetic Algorithm\")\n"
   ]
  },
  {
   "attachments": {
    "95735328-45b0-441f-afcc-cee81a2c6ba8.png": {
     "image/png": "[encoded data removed]"
    }
   },
   "cell_type": "markdown",
   "id": "3b364151-f952-4434-862b-485872907299",
   "metadata": {},
   "source": [
    "![image.png](attachment:95735328-45b0-441f-afcc-cee81a2c6ba8.png)"
   ]
  },
  {
   "cell_type": "code",
   "execution_count": 4,
   "id": "cf9a47e8-170e-42c7-a6e4-f78926ff17d2",
   "metadata": {},
   "outputs": [
    {
     "name": "stdout",
     "output_type": "stream",
     "text": [
      "S = [[0, 0, 1, 1, 1, 1, 1, 1, 1, 1], [0, 0, 1, 1, 1, 1, 1, 1, 1, 1], [0, 1, 1, 0, 1, 1, 0, 1, 1, 1], [0, 1, 0, 1, 1, 1, 0, 0, 1, 1], [0, 0, 1, 0, 1, 1, 1, 1, 1, 1], [0, 0, 1, 0, 1, 1, 0, 1, 1, 1]]\n",
      "Fitness\n",
      "[8, 8, 7, 6, 7, 6]\n",
      "Total fitness: 42\n",
      "\n",
      "Arranging in Descending order based on fitness\n",
      "S in descending order = [[0, 0, 1, 1, 1, 1, 1, 1, 1, 1], [0, 0, 1, 1, 1, 1, 1, 1, 1, 1], [0, 1, 1, 0, 1, 1, 0, 1, 1, 1], [0, 0, 1, 0, 1, 1, 1, 1, 1, 1], [0, 1, 0, 1, 1, 1, 0, 0, 1, 1], [0, 0, 1, 0, 1, 1, 0, 1, 1, 1]]\n",
      "\n",
      "Crossover after 2 points\n",
      "s1 and s4 after crossover\n",
      "s1 = [0, 0, 1, 0, 1, 1, 1, 1, 1, 1] s4 = [0, 0, 1, 1, 1, 1, 1, 1, 1, 1]\n",
      "s5 = [0, 1, 0, 0, 1, 1, 0, 1, 1, 1] s6 = [0, 0, 1, 1, 1, 1, 0, 0, 1, 1]\n",
      "S after crossover = [[0, 0, 1, 0, 1, 1, 1, 1, 1, 1], [0, 0, 1, 1, 1, 1, 1, 1, 1, 1], [0, 1, 1, 0, 1, 1, 0, 1, 1, 1], [0, 0, 1, 1, 1, 1, 1, 1, 1, 1], [0, 1, 0, 0, 1, 1, 0, 1, 1, 1], [0, 0, 1, 1, 1, 1, 0, 0, 1, 1]]\n",
      "\n",
      "Crossover between S2 and S3 after 4th point\n",
      "s2 and s3 after crossover at 4th point\n",
      "s2 = [0, 0, 1, 1, 1, 1, 0, 1, 1, 1] s3 = [0, 1, 1, 0, 1, 1, 1, 1, 1, 1]\n",
      "S after crossover = [[0, 0, 1, 0, 1, 1, 1, 1, 1, 1], [0, 0, 1, 1, 1, 1, 0, 1, 1, 1], [0, 1, 1, 0, 1, 1, 1, 1, 1, 1], [0, 0, 1, 1, 1, 1, 1, 1, 1, 1], [0, 1, 0, 0, 1, 1, 0, 1, 1, 1], [0, 0, 1, 1, 1, 1, 0, 0, 1, 1]]\n",
      "\n",
      "Mutation\n",
      "S after mutation = [[1, 1, 1, 0, 1, 1, 1, 1, 1, 1], [1, 1, 1, 1, 1, 1, 0, 1, 1, 1], [1, 0, 1, 0, 1, 1, 1, 1, 1, 1], [1, 1, 1, 1, 1, 1, 1, 1, 1, 1], [1, 0, 0, 0, 1, 1, 0, 1, 1, 1], [1, 1, 1, 1, 1, 1, 0, 0, 1, 1]]\n",
      "Fitness\n",
      "[9, 9, 8, 10, 6, 8]\n",
      "Total fitness: 50\n",
      "Fitness is greater after applying Genetic Algorithm\n"
     ]
    }
   ],
   "source": [
    "S = [\n",
    "    [0, 0, 1, 1, 1, 1, 1, 1, 1, 1],\n",
    "    [0, 0, 1, 1, 1, 1, 1, 1, 1, 1],\n",
    "    [0, 1, 1, 0, 1, 1, 0, 1, 1, 1],\n",
    "    [0, 1, 0, 1, 1, 1, 0, 0, 1, 1],\n",
    "    [0, 0, 1, 0, 1, 1, 1, 1, 1, 1],\n",
    "    [0, 0, 1, 0, 1, 1, 0, 1, 1, 1]\n",
    "]\n",
    "print(\"S =\", S)\n",
    "\n",
    "def calfitness(S):\n",
    "    fit = []\n",
    "    total = 0\n",
    "    print(\"Fitness\")\n",
    "    for i in S:\n",
    "        fit.append(i.count(1))\n",
    "        total += i.count(1)\n",
    "    print(fit)\n",
    "    print(\"Total fitness:\", total)\n",
    "    return fit\n",
    "\n",
    "fit = calfitness(S)\n",
    "\n",
    "print(\"\\nArranging in Descending order based on fitness\")\n",
    "desc = S.copy()\n",
    "for i in range(len(desc)):\n",
    "    for j in range(i + 1, len(desc)):\n",
    "        if desc[i].count(1) < desc[j].count(1):\n",
    "            desc[j], desc[i] = desc[i], desc[j]\n",
    "\n",
    "print(\"S in descending order =\", desc)\n",
    "\n",
    "print(\"\\nCrossover after 2 points\")\n",
    "for i in range(3):  # Swap first 3 elements of row 1 with row 4\n",
    "    desc[0][i], desc[3][i] = desc[3][i], desc[0][i]\n",
    "    desc[4][i], desc[5][i] = desc[5][i], desc[4][i]\n",
    "\n",
    "# Swapping entire rows for further crossover\n",
    "desc[0], desc[3] = desc[3], desc[0]\n",
    "desc[4], desc[5] = desc[5], desc[4]\n",
    "\n",
    "print(\"s1 and s4 after crossover\")\n",
    "print(\"s1 =\", desc[0], \"s4 =\", desc[3])\n",
    "print(\"s5 =\", desc[4], \"s6 =\", desc[5])\n",
    "print(\"S after crossover =\", desc)\n",
    "\n",
    "# Perform crossover between S2 and S3 after 4th point (index 4)\n",
    "print(\"\\nCrossover between S2 and S3 after 4th point\")\n",
    "for i in range(4, len(desc[1])):  # Start from the 4th index\n",
    "    desc[1][i], desc[2][i] = desc[2][i], desc[1][i]\n",
    "\n",
    "print(\"s2 and s3 after crossover at 4th point\")\n",
    "print(\"s2 =\", desc[1], \"s3 =\", desc[2])\n",
    "print(\"S after crossover =\", desc)\n",
    "\n",
    "print(\"\\nMutation\")\n",
    "for i in range(6):  # Iterate through all rows\n",
    "    for j in range(2):  # Mutate first 2 elements in each row\n",
    "        desc[i][j] = 1 - desc[i][j]  # Flip 0 to 1 and 1 to 0\n",
    "\n",
    "print(\"S after mutation =\", desc)\n",
    "\n",
    "fit2 = calfitness(desc)\n",
    "\n",
    "if sum(fit2) > sum(fit):\n",
    "    print(\"Fitness is greater after applying Genetic Algorithm\")\n",
    "else:\n",
    "    print(\"Fitness is greater before applying Genetic Algorithm\")\n"
   ]
  },
  {
   "attachments": {
    "81a0c419-e0c7-489a-abbf-2005cc25f449.png": {
     "image/png": "[encoded data removed]"
    }
   },
   "cell_type": "markdown",
   "id": "b2eb34cf-6e4c-4f0b-b816-6afdf5810391",
   "metadata": {},
   "source": [
    "![image.png](attachment:81a0c419-e0c7-489a-abbf-2005cc25f449.png)"
   ]
  },
  {
   "cell_type": "code",
   "execution_count": 5,
   "id": "cd525335-db09-4433-b6e5-5e0af43abce2",
   "metadata": {},
   "outputs": [
    {
     "name": "stdout",
     "output_type": "stream",
     "text": [
      "Enter the chromosomes:\n",
      "Enter chromosome 1:\n",
      "Enter the values for a chromosome (10 elements, 0 or 1):\n"
     ]
    },
    {
     "name": "stdin",
     "output_type": "stream",
     "text": [
      "Element 1 (0 or 1):  1\n",
      "Element 2 (0 or 1):  1\n",
      "Element 3 (0 or 1):  1\n",
      "Element 4 (0 or 1):  1\n",
      "Element 5 (0 or 1):  1\n",
      "Element 6 (0 or 1):  1\n",
      "Element 7 (0 or 1):  0\n",
      "Element 8 (0 or 1):  101\n"
     ]
    },
    {
     "name": "stdout",
     "output_type": "stream",
     "text": [
      "Input must be either 0 or 1.\n"
     ]
    },
    {
     "name": "stdin",
     "output_type": "stream",
     "text": [
      "Element 8 (0 or 1):  0\n",
      "Element 9 (0 or 1):  1\n",
      "Element 10 (0 or 1):  1\n"
     ]
    },
    {
     "name": "stdout",
     "output_type": "stream",
     "text": [
      "Enter chromosome 2:\n",
      "Enter the values for a chromosome (10 elements, 0 or 1):\n"
     ]
    },
    {
     "name": "stdin",
     "output_type": "stream",
     "text": [
      "Element 1 (0 or 1):  0\n",
      "Element 2 (0 or 1):  1\n",
      "Element 3 (0 or 1):  0\n",
      "Element 4 (0 or 1):  10\n"
     ]
    },
    {
     "name": "stdout",
     "output_type": "stream",
     "text": [
      "Input must be either 0 or 1.\n"
     ]
    },
    {
     "name": "stdin",
     "output_type": "stream",
     "text": [
      "Element 4 (0 or 1):  1\n",
      "Element 5 (0 or 1):  1\n",
      "Element 6 (0 or 1):  1\n",
      "Element 7 (0 or 1):  1\n",
      "Element 8 (0 or 1):  1\n",
      "Element 9 (0 or 1):  1\n",
      "Element 10 (0 or 1):  1\n"
     ]
    },
    {
     "name": "stdout",
     "output_type": "stream",
     "text": [
      "Enter chromosome 3:\n",
      "Enter the values for a chromosome (10 elements, 0 or 1):\n"
     ]
    },
    {
     "name": "stdin",
     "output_type": "stream",
     "text": [
      "Element 1 (0 or 1):  0\n",
      "Element 2 (0 or 1):  0\n",
      "Element 3 (0 or 1):  0\n",
      "Element 4 (0 or 1):  0\n",
      "Element 5 (0 or 1):  1\n",
      "Element 6 (0 or 1):  1\n",
      "Element 7 (0 or 1):  1\n",
      "Element 8 (0 or 1):  1\n",
      "Element 9 (0 or 1):  1\n",
      "Element 10 (0 or 1):  1\n"
     ]
    },
    {
     "name": "stdout",
     "output_type": "stream",
     "text": [
      "Enter chromosome 4:\n",
      "Enter the values for a chromosome (10 elements, 0 or 1):\n"
     ]
    },
    {
     "name": "stdin",
     "output_type": "stream",
     "text": [
      "Element 1 (0 or 1):  1\n",
      "Element 2 (0 or 1):  1\n",
      "Element 3 (0 or 1):  1\n",
      "Element 4 (0 or 1):  1\n",
      "Element 5 (0 or 1):  1\n",
      "Element 6 (0 or 1):  1\n",
      "Element 7 (0 or 1):  1\n",
      "Element 8 (0 or 1):  1\n",
      "Element 9 (0 or 1):  0\n",
      "Element 10 (0 or 1):  0\n"
     ]
    },
    {
     "name": "stdout",
     "output_type": "stream",
     "text": [
      "Enter chromosome 5:\n",
      "Enter the values for a chromosome (10 elements, 0 or 1):\n"
     ]
    },
    {
     "name": "stdin",
     "output_type": "stream",
     "text": [
      "Element 1 (0 or 1):  0\n",
      "Element 2 (0 or 1):  0\n",
      "Element 3 (0 or 1):  0\n",
      "Element 4 (0 or 1):  0\n",
      "Element 5 (0 or 1):  0\n",
      "Element 6 (0 or 1):  0\n",
      "Element 7 (0 or 1):  0\n",
      "Element 8 (0 or 1):  0\n",
      "Element 9 (0 or 1):  0\n",
      "Element 10 (0 or 1):  0\n"
     ]
    },
    {
     "name": "stdout",
     "output_type": "stream",
     "text": [
      "Enter chromosome 6:\n",
      "Enter the values for a chromosome (10 elements, 0 or 1):\n"
     ]
    },
    {
     "name": "stdin",
     "output_type": "stream",
     "text": [
      "Element 1 (0 or 1):  1\n",
      "Element 2 (0 or 1):  1\n",
      "Element 3 (0 or 1):  1\n",
      "Element 4 (0 or 1):  1\n",
      "Element 5 (0 or 1):  1\n",
      "Element 6 (0 or 1):  1\n",
      "Element 7 (0 or 1):  1\n",
      "Element 8 (0 or 1):  1\n",
      "Element 9 (0 or 1):  1\n",
      "Element 10 (0 or 1):  1\n"
     ]
    },
    {
     "name": "stdout",
     "output_type": "stream",
     "text": [
      "S = [[1, 1, 1, 1, 1, 1, 0, 0, 1, 1], [0, 1, 0, 1, 1, 1, 1, 1, 1, 1], [0, 0, 0, 0, 1, 1, 1, 1, 1, 1], [1, 1, 1, 1, 1, 1, 1, 1, 0, 0], [0, 0, 0, 0, 0, 0, 0, 0, 0, 0], [1, 1, 1, 1, 1, 1, 1, 1, 1, 1]]\n",
      "Fitness\n",
      "[8, 8, 6, 8, 0, 10]\n",
      "Total fitness: 40\n",
      "\n",
      "Arranging in Descending order based on fitness\n",
      "S in descending order = [[1, 1, 1, 1, 1, 1, 1, 1, 1, 1], [0, 1, 0, 1, 1, 1, 1, 1, 1, 1], [1, 1, 1, 1, 1, 1, 1, 1, 0, 0], [1, 1, 1, 1, 1, 1, 0, 0, 1, 1], [0, 0, 0, 0, 1, 1, 1, 1, 1, 1], [0, 0, 0, 0, 0, 0, 0, 0, 0, 0]]\n",
      "\n",
      "Crossover after 2 points\n",
      "s1 and s4 after crossover\n",
      "s1 = [1, 1, 1, 1, 1, 1, 0, 0, 1, 1] s4 = [1, 1, 1, 1, 1, 1, 1, 1, 1, 1]\n",
      "s5 = [0, 0, 0, 0, 0, 0, 0, 0, 0, 0] s6 = [0, 0, 0, 0, 1, 1, 1, 1, 1, 1]\n",
      "S after crossover = [[1, 1, 1, 1, 1, 1, 0, 0, 1, 1], [0, 1, 0, 1, 1, 1, 1, 1, 1, 1], [1, 1, 1, 1, 1, 1, 1, 1, 0, 0], [1, 1, 1, 1, 1, 1, 1, 1, 1, 1], [0, 0, 0, 0, 0, 0, 0, 0, 0, 0], [0, 0, 0, 0, 1, 1, 1, 1, 1, 1]]\n",
      "\n",
      "Crossover between S2 and S3 after 4th point\n",
      "s2 and s3 after crossover at 4th point\n",
      "s2 = [0, 1, 0, 1, 1, 1, 1, 1, 0, 0] s3 = [1, 1, 1, 1, 1, 1, 1, 1, 1, 1]\n",
      "S after crossover = [[1, 1, 1, 1, 1, 1, 0, 0, 1, 1], [0, 1, 0, 1, 1, 1, 1, 1, 0, 0], [1, 1, 1, 1, 1, 1, 1, 1, 1, 1], [1, 1, 1, 1, 1, 1, 1, 1, 1, 1], [0, 0, 0, 0, 0, 0, 0, 0, 0, 0], [0, 0, 0, 0, 1, 1, 1, 1, 1, 1]]\n",
      "\n",
      "Mutation\n",
      "S after mutation = [[0, 0, 1, 1, 1, 1, 0, 0, 1, 1], [1, 0, 0, 1, 1, 1, 1, 1, 0, 0], [0, 0, 1, 1, 1, 1, 1, 1, 1, 1], [0, 0, 1, 1, 1, 1, 1, 1, 1, 1], [1, 1, 0, 0, 0, 0, 0, 0, 0, 0], [1, 1, 0, 0, 1, 1, 1, 1, 1, 1]]\n",
      "Fitness\n",
      "[6, 6, 8, 8, 2, 8]\n",
      "Total fitness: 38\n",
      "Fitness is greater before applying Genetic Algorithm\n"
     ]
    }
   ],
   "source": [
    "def get_chromosome_input():\n",
    "    \"\"\"Function to get a chromosome input from the user\"\"\"\n",
    "    chromosome = []\n",
    "    print(\"Enter the values for a chromosome (10 elements, 0 or 1):\")\n",
    "    for i in range(10):  # Assuming 10 elements per chromosome\n",
    "        while True:\n",
    "            try:\n",
    "                val = int(input(f\"Element {i+1} (0 or 1): \"))\n",
    "                if val not in [0, 1]:\n",
    "                    raise ValueError(\"Input must be either 0 or 1.\")\n",
    "                chromosome.append(val)\n",
    "                break\n",
    "            except ValueError as e:\n",
    "                print(e)\n",
    "    return chromosome\n",
    "\n",
    "# Taking input for all chromosomes\n",
    "print(\"Enter the chromosomes:\")\n",
    "S = []\n",
    "for i in range(6):  # Assuming there are 6 chromosomes\n",
    "    print(f\"Enter chromosome {i + 1}:\")\n",
    "    S.append(get_chromosome_input())\n",
    "\n",
    "print(\"S =\", S)\n",
    "\n",
    "def calfitness(S):\n",
    "    fit = []\n",
    "    total = 0\n",
    "    print(\"Fitness\")\n",
    "    for i in S:\n",
    "        fit.append(i.count(1))\n",
    "        total += i.count(1)\n",
    "    print(fit)\n",
    "    print(\"Total fitness:\", total)\n",
    "    return fit\n",
    "\n",
    "fit = calfitness(S)\n",
    "\n",
    "print(\"\\nArranging in Descending order based on fitness\")\n",
    "desc = S.copy()\n",
    "for i in range(len(desc)):\n",
    "    for j in range(i + 1, len(desc)):\n",
    "        if desc[i].count(1) < desc[j].count(1):\n",
    "            desc[j], desc[i] = desc[i], desc[j]\n",
    "\n",
    "print(\"S in descending order =\", desc)\n",
    "\n",
    "print(\"\\nCrossover after 2 points\")\n",
    "for i in range(3):  # Swap first 3 elements of row 1 with row 4\n",
    "    desc[0][i], desc[3][i] = desc[3][i], desc[0][i]\n",
    "    desc[4][i], desc[5][i] = desc[5][i], desc[4][i]\n",
    "\n",
    "# Swapping entire rows for further crossover\n",
    "desc[0], desc[3] = desc[3], desc[0]\n",
    "desc[4], desc[5] = desc[5], desc[4]\n",
    "\n",
    "print(\"s1 and s4 after crossover\")\n",
    "print(\"s1 =\", desc[0], \"s4 =\", desc[3])\n",
    "print(\"s5 =\", desc[4], \"s6 =\", desc[5])\n",
    "print(\"S after crossover =\", desc)\n",
    "\n",
    "# Perform crossover between S2 and S3 after 4th point (index 4)\n",
    "print(\"\\nCrossover between S2 and S3 after 4th point\")\n",
    "for i in range(4, len(desc[1])):  # Start from the 4th index\n",
    "    desc[1][i], desc[2][i] = desc[2][i], desc[1][i]\n",
    "\n",
    "print(\"s2 and s3 after crossover at 4th point\")\n",
    "print(\"s2 =\", desc[1], \"s3 =\", desc[2])\n",
    "print(\"S after crossover =\", desc)\n",
    "\n",
    "print(\"\\nMutation\")\n",
    "for i in range(6):  # Iterate through all rows\n",
    "    for j in range(2):  # Mutate first 2 elements in each row\n",
    "        desc[i][j] = 1 - desc[i][j]  # Flip 0 to 1 and 1 to 0\n",
    "\n",
    "print(\"S after mutation =\", desc)\n",
    "\n",
    "fit2 = calfitness(desc)\n",
    "\n",
    "if sum(fit2) > sum(fit):\n",
    "    print(\"Fitness is greater after applying Genetic Algorithm\")\n",
    "else:\n",
    "    print(\"Fitness is greater before applying Genetic Algorithm\")\n"
   ]
  },
  {
   "cell_type": "markdown",
   "id": "5b5e5b7e-e10a-4328-b3d5-21ff9d03d8dd",
   "metadata": {},
   "source": [
    "# from git hub"
   ]
  },
  {
   "cell_type": "code",
   "execution_count": null,
   "id": "befe7cea-074b-4314-ae2b-920dde5804b1",
   "metadata": {},
   "outputs": [],
   "source": []
  }
 ],
 "metadata": {
  "kernelspec": {
   "display_name": "Python 3 (ipykernel)",
   "language": "python",
   "name": "python3"
  },
  "language_info": {
   "codemirror_mode": {
    "name": "ipython",
    "version": 3
   },
   "file_extension": ".py",
   "mimetype": "text/x-python",
   "name": "python",
   "nbconvert_exporter": "python",
   "pygments_lexer": "ipython3",
   "version": "3.12.5"
  }
 },
 "nbformat": 4,
 "nbformat_minor": 5
}
